{
 "cells": [
  {
   "cell_type": "code",
   "execution_count": null,
   "metadata": {},
   "outputs": [],
   "source": [
    "mls_teams_fbref = {\n",
    "    \"Colorado-Rapids\": \"415b4465\",\n",
    "    \"Columbus-Crew\": \"529ba333\",\n",
    "    \"dc-united\": \"44117292\",\n",
    "    \"fc-dallas\": \"15cf8f40\",\n",
    "    \"houston-dynamo\": \"0d885416\",\n",
    "    \"Sporting-Kansas\": \"4acb0537\",\n",
    "    \"la-galaxy\": \"d8b46897\",\n",
    "    \"los-angeles-fc\": \"e0f8cfb5\",\n",
    "    \"inter-miami\": \"cb8b86a2\",\n",
    "    \"minnesota-united\": \"99ea75a6\",\n",
    "    \"CF-Montreal\": \"fc22273c\",\n",
    "    \"Nashville-SC\": \"35f1b818\",\n",
    "    \"New-England-Revolution\": \"3c079def\",\n",
    "    \"New-York-City-FC\": \"64e81410\",\n",
    "    \"new-york-red-bulls\": \"69a0fb10\",\n",
    "    \"orlando-city\": \"46ef01d0\",\n",
    "    \"Philadelphia-Union\": \"46024eeb\",\n",
    "    \"Portland-Timbers\": \"076914e\",\n",
    "    \"salt-lake\": \"b78d3892\",\n",
    "    \"san-jose\": \"f31f1091\",\n",
    "    \"seattle\": \"c2d4c03c\",\n",
    "    \"st-louis-city\": \"cdde63bc\",\n",
    "    \"toronto\": \"59802b6c\",\n",
    "    \"vancouver\": \"fdffd0d3\"\n",
    "}\n"
   ]
  },
  {
   "cell_type": "code",
   "execution_count": 1,
   "metadata": {
    "id": "mIXVu0lIwoWi"
   },
   "outputs": [
    {
     "name": "stdout",
     "output_type": "stream",
     "text": [
      "Fetching: https://fbref.com/en/squads/81d817a3/2024/matchlogs/c22/schedule/los-angeles-fc-Scores-and-Fixtures-Major-League-Soccer (Attempt 1) with User-Agent: Mozilla/5.0 (Macintosh; Intel Mac OS X 10_15_7) AppleWebKit/537.36 (KHTML, like Gecko) Chrome/116.0 Safari/537.36\n",
      "Saved: Scores and Fixtures for los-angeles-fc to MLS_2024_Data\\los-angeles-fc\\scores_and_fixtures.csv\n"
     ]
    },
    {
     "name": "stderr",
     "output_type": "stream",
     "text": [
      "C:\\Users\\Yusuf\\AppData\\Local\\Temp\\ipykernel_28624\\2442571552.py:45: FutureWarning: Passing literal html to 'read_html' is deprecated and will be removed in a future version. To read from a literal string, wrap it in a 'StringIO' object.\n",
      "  tables = pd.read_html(response.text)\n"
     ]
    },
    {
     "name": "stdout",
     "output_type": "stream",
     "text": [
      "Fetching: https://fbref.com/en/squads/81d817a3/2024/matchlogs/c22/shooting/los-angeles-fc-Match-Logs-Major-League-Soccer (Attempt 1) with User-Agent: Mozilla/5.0 (Macintosh; Intel Mac OS X 10_15_7) AppleWebKit/537.36 (KHTML, like Gecko) Chrome/116.0 Safari/537.36\n",
      "Saved: Shooting Data for los-angeles-fc to MLS_2024_Data\\los-angeles-fc\\shooting_data.csv\n"
     ]
    },
    {
     "name": "stderr",
     "output_type": "stream",
     "text": [
      "C:\\Users\\Yusuf\\AppData\\Local\\Temp\\ipykernel_28624\\2442571552.py:45: FutureWarning: Passing literal html to 'read_html' is deprecated and will be removed in a future version. To read from a literal string, wrap it in a 'StringIO' object.\n",
      "  tables = pd.read_html(response.text)\n"
     ]
    },
    {
     "name": "stdout",
     "output_type": "stream",
     "text": [
      "Fetching: https://fbref.com/en/squads/81d817a3/2024/matchlogs/c22/keeper/los-angeles-fc-Match-Logs-Major-League-Soccer (Attempt 1) with User-Agent: Mozilla/5.0 (Macintosh; Intel Mac OS X 10_15_7) AppleWebKit/537.36 (KHTML, like Gecko) Chrome/116.0 Safari/537.36\n"
     ]
    },
    {
     "name": "stderr",
     "output_type": "stream",
     "text": [
      "C:\\Users\\Yusuf\\AppData\\Local\\Temp\\ipykernel_28624\\2442571552.py:45: FutureWarning: Passing literal html to 'read_html' is deprecated and will be removed in a future version. To read from a literal string, wrap it in a 'StringIO' object.\n",
      "  tables = pd.read_html(response.text)\n"
     ]
    },
    {
     "name": "stdout",
     "output_type": "stream",
     "text": [
      "Saved: Keeper Data for los-angeles-fc to MLS_2024_Data\\los-angeles-fc\\keeper_data.csv\n",
      "Fetching: https://fbref.com/en/squads/81d817a3/2024/matchlogs/c22/passing/los-angeles-fc-Match-Logs-Major-League-Soccer (Attempt 1) with User-Agent: Mozilla/5.0 (Macintosh; Intel Mac OS X 10_15_7) AppleWebKit/537.36 (KHTML, like Gecko) Chrome/116.0 Safari/537.36\n"
     ]
    },
    {
     "name": "stderr",
     "output_type": "stream",
     "text": [
      "C:\\Users\\Yusuf\\AppData\\Local\\Temp\\ipykernel_28624\\2442571552.py:45: FutureWarning: Passing literal html to 'read_html' is deprecated and will be removed in a future version. To read from a literal string, wrap it in a 'StringIO' object.\n",
      "  tables = pd.read_html(response.text)\n"
     ]
    },
    {
     "name": "stdout",
     "output_type": "stream",
     "text": [
      "Saved: Passing Data for los-angeles-fc to MLS_2024_Data\\los-angeles-fc\\passing_data.csv\n",
      "Fetching: https://fbref.com/en/squads/81d817a3/2024/matchlogs/c22/passing_types/los-angeles-fc-Match-Logs-Major-League-Soccer (Attempt 1) with User-Agent: Mozilla/5.0 (Macintosh; Intel Mac OS X 10_15_7) AppleWebKit/537.36 (KHTML, like Gecko) Chrome/116.0 Safari/537.36\n"
     ]
    },
    {
     "name": "stderr",
     "output_type": "stream",
     "text": [
      "C:\\Users\\Yusuf\\AppData\\Local\\Temp\\ipykernel_28624\\2442571552.py:45: FutureWarning: Passing literal html to 'read_html' is deprecated and will be removed in a future version. To read from a literal string, wrap it in a 'StringIO' object.\n",
      "  tables = pd.read_html(response.text)\n"
     ]
    },
    {
     "name": "stdout",
     "output_type": "stream",
     "text": [
      "Saved: Passing Types Data for los-angeles-fc to MLS_2024_Data\\los-angeles-fc\\passing_types_data.csv\n",
      "Fetching: https://fbref.com/en/squads/81d817a3/2024/matchlogs/c22/gca/los-angeles-fc-Match-Logs-Major-League-Soccer (Attempt 1) with User-Agent: Mozilla/5.0 (Macintosh; Intel Mac OS X 10_15_7) AppleWebKit/537.36 (KHTML, like Gecko) Chrome/116.0 Safari/537.36\n"
     ]
    },
    {
     "name": "stderr",
     "output_type": "stream",
     "text": [
      "C:\\Users\\Yusuf\\AppData\\Local\\Temp\\ipykernel_28624\\2442571552.py:45: FutureWarning: Passing literal html to 'read_html' is deprecated and will be removed in a future version. To read from a literal string, wrap it in a 'StringIO' object.\n",
      "  tables = pd.read_html(response.text)\n"
     ]
    },
    {
     "name": "stdout",
     "output_type": "stream",
     "text": [
      "Saved: Goals and Shots Data for los-angeles-fc to MLS_2024_Data\\los-angeles-fc\\goals_and_shots_data.csv\n",
      "Fetching: https://fbref.com/en/squads/81d817a3/2024/matchlogs/c22/defense/los-angeles-fc-Match-Logs-Major-League-Soccer (Attempt 1) with User-Agent: Mozilla/5.0 (Macintosh; Intel Mac OS X 10_15_7) AppleWebKit/537.36 (KHTML, like Gecko) Chrome/116.0 Safari/537.36\n"
     ]
    },
    {
     "name": "stderr",
     "output_type": "stream",
     "text": [
      "C:\\Users\\Yusuf\\AppData\\Local\\Temp\\ipykernel_28624\\2442571552.py:45: FutureWarning: Passing literal html to 'read_html' is deprecated and will be removed in a future version. To read from a literal string, wrap it in a 'StringIO' object.\n",
      "  tables = pd.read_html(response.text)\n"
     ]
    },
    {
     "name": "stdout",
     "output_type": "stream",
     "text": [
      "Saved: Defense Data for los-angeles-fc to MLS_2024_Data\\los-angeles-fc\\defense_data.csv\n",
      "Fetching: https://fbref.com/en/squads/81d817a3/2024/matchlogs/c22/possession/los-angeles-fc-Match-Logs-Major-League-Soccer (Attempt 1) with User-Agent: Mozilla/5.0 (Macintosh; Intel Mac OS X 10_15_7) AppleWebKit/537.36 (KHTML, like Gecko) Chrome/116.0 Safari/537.36\n"
     ]
    },
    {
     "name": "stderr",
     "output_type": "stream",
     "text": [
      "C:\\Users\\Yusuf\\AppData\\Local\\Temp\\ipykernel_28624\\2442571552.py:45: FutureWarning: Passing literal html to 'read_html' is deprecated and will be removed in a future version. To read from a literal string, wrap it in a 'StringIO' object.\n",
      "  tables = pd.read_html(response.text)\n"
     ]
    },
    {
     "name": "stdout",
     "output_type": "stream",
     "text": [
      "Saved: Possession Data for los-angeles-fc to MLS_2024_Data\\los-angeles-fc\\possession_data.csv\n",
      "Fetching: https://fbref.com/en/squads/81d817a3/2024/matchlogs/c22/misc/los-angeles-fc-Match-Logs-Major-League-Soccer (Attempt 1) with User-Agent: Mozilla/5.0 (Macintosh; Intel Mac OS X 10_15_7) AppleWebKit/537.36 (KHTML, like Gecko) Chrome/116.0 Safari/537.36\n"
     ]
    },
    {
     "name": "stderr",
     "output_type": "stream",
     "text": [
      "C:\\Users\\Yusuf\\AppData\\Local\\Temp\\ipykernel_28624\\2442571552.py:45: FutureWarning: Passing literal html to 'read_html' is deprecated and will be removed in a future version. To read from a literal string, wrap it in a 'StringIO' object.\n",
      "  tables = pd.read_html(response.text)\n"
     ]
    },
    {
     "name": "stdout",
     "output_type": "stream",
     "text": [
      "Saved: Miscellaneous Data for los-angeles-fc to MLS_2024_Data\\los-angeles-fc\\miscellaneous_data.csv\n",
      "Fetching: https://fbref.com/en/squads/d076914e/2024/matchlogs/c22/schedule/Portland-Timbers-Scores-and-Fixtures-Major-League-Soccer (Attempt 1) with User-Agent: Mozilla/5.0 (Macintosh; Intel Mac OS X 10_15_7) AppleWebKit/537.36 (KHTML, like Gecko) Chrome/116.0 Safari/537.36\n"
     ]
    },
    {
     "name": "stderr",
     "output_type": "stream",
     "text": [
      "C:\\Users\\Yusuf\\AppData\\Local\\Temp\\ipykernel_28624\\2442571552.py:45: FutureWarning: Passing literal html to 'read_html' is deprecated and will be removed in a future version. To read from a literal string, wrap it in a 'StringIO' object.\n",
      "  tables = pd.read_html(response.text)\n"
     ]
    },
    {
     "name": "stdout",
     "output_type": "stream",
     "text": [
      "Saved: Scores and Fixtures for Portland-Timbers to MLS_2024_Data\\Portland-Timbers\\scores_and_fixtures.csv\n",
      "Fetching: https://fbref.com/en/squads/d076914e/2024/matchlogs/c22/shooting/Portland-Timbers-Match-Logs-Major-League-Soccer (Attempt 1) with User-Agent: Mozilla/5.0 (Macintosh; Intel Mac OS X 10_15_7) AppleWebKit/537.36 (KHTML, like Gecko) Chrome/116.0 Safari/537.36\n"
     ]
    },
    {
     "name": "stderr",
     "output_type": "stream",
     "text": [
      "C:\\Users\\Yusuf\\AppData\\Local\\Temp\\ipykernel_28624\\2442571552.py:45: FutureWarning: Passing literal html to 'read_html' is deprecated and will be removed in a future version. To read from a literal string, wrap it in a 'StringIO' object.\n",
      "  tables = pd.read_html(response.text)\n"
     ]
    },
    {
     "name": "stdout",
     "output_type": "stream",
     "text": [
      "Saved: Shooting Data for Portland-Timbers to MLS_2024_Data\\Portland-Timbers\\shooting_data.csv\n",
      "Fetching: https://fbref.com/en/squads/d076914e/2024/matchlogs/c22/keeper/Portland-Timbers-Match-Logs-Major-League-Soccer (Attempt 1) with User-Agent: Mozilla/5.0 (Macintosh; Intel Mac OS X 10_15_7) AppleWebKit/537.36 (KHTML, like Gecko) Chrome/116.0 Safari/537.36\n"
     ]
    },
    {
     "name": "stderr",
     "output_type": "stream",
     "text": [
      "C:\\Users\\Yusuf\\AppData\\Local\\Temp\\ipykernel_28624\\2442571552.py:45: FutureWarning: Passing literal html to 'read_html' is deprecated and will be removed in a future version. To read from a literal string, wrap it in a 'StringIO' object.\n",
      "  tables = pd.read_html(response.text)\n"
     ]
    },
    {
     "name": "stdout",
     "output_type": "stream",
     "text": [
      "Saved: Keeper Data for Portland-Timbers to MLS_2024_Data\\Portland-Timbers\\keeper_data.csv\n",
      "Fetching: https://fbref.com/en/squads/d076914e/2024/matchlogs/c22/passing/Portland-Timbers-Match-Logs-Major-League-Soccer (Attempt 1) with User-Agent: Mozilla/5.0 (Macintosh; Intel Mac OS X 10_15_7) AppleWebKit/537.36 (KHTML, like Gecko) Chrome/116.0 Safari/537.36\n"
     ]
    },
    {
     "name": "stderr",
     "output_type": "stream",
     "text": [
      "C:\\Users\\Yusuf\\AppData\\Local\\Temp\\ipykernel_28624\\2442571552.py:45: FutureWarning: Passing literal html to 'read_html' is deprecated and will be removed in a future version. To read from a literal string, wrap it in a 'StringIO' object.\n",
      "  tables = pd.read_html(response.text)\n"
     ]
    },
    {
     "name": "stdout",
     "output_type": "stream",
     "text": [
      "Saved: Passing Data for Portland-Timbers to MLS_2024_Data\\Portland-Timbers\\passing_data.csv\n",
      "Fetching: https://fbref.com/en/squads/d076914e/2024/matchlogs/c22/passing_types/Portland-Timbers-Match-Logs-Major-League-Soccer (Attempt 1) with User-Agent: Mozilla/5.0 (Macintosh; Intel Mac OS X 10_15_7) AppleWebKit/537.36 (KHTML, like Gecko) Chrome/116.0 Safari/537.36\n"
     ]
    },
    {
     "name": "stderr",
     "output_type": "stream",
     "text": [
      "C:\\Users\\Yusuf\\AppData\\Local\\Temp\\ipykernel_28624\\2442571552.py:45: FutureWarning: Passing literal html to 'read_html' is deprecated and will be removed in a future version. To read from a literal string, wrap it in a 'StringIO' object.\n",
      "  tables = pd.read_html(response.text)\n"
     ]
    },
    {
     "name": "stdout",
     "output_type": "stream",
     "text": [
      "Saved: Passing Types Data for Portland-Timbers to MLS_2024_Data\\Portland-Timbers\\passing_types_data.csv\n",
      "Fetching: https://fbref.com/en/squads/d076914e/2024/matchlogs/c22/gca/Portland-Timbers-Match-Logs-Major-League-Soccer (Attempt 1) with User-Agent: Mozilla/5.0 (Macintosh; Intel Mac OS X 10_15_7) AppleWebKit/537.36 (KHTML, like Gecko) Chrome/116.0 Safari/537.36\n"
     ]
    },
    {
     "name": "stderr",
     "output_type": "stream",
     "text": [
      "C:\\Users\\Yusuf\\AppData\\Local\\Temp\\ipykernel_28624\\2442571552.py:45: FutureWarning: Passing literal html to 'read_html' is deprecated and will be removed in a future version. To read from a literal string, wrap it in a 'StringIO' object.\n",
      "  tables = pd.read_html(response.text)\n"
     ]
    },
    {
     "name": "stdout",
     "output_type": "stream",
     "text": [
      "Saved: Goals and Shots Data for Portland-Timbers to MLS_2024_Data\\Portland-Timbers\\goals_and_shots_data.csv\n",
      "Fetching: https://fbref.com/en/squads/d076914e/2024/matchlogs/c22/defense/Portland-Timbers-Match-Logs-Major-League-Soccer (Attempt 1) with User-Agent: Mozilla/5.0 (Macintosh; Intel Mac OS X 10_15_7) AppleWebKit/537.36 (KHTML, like Gecko) Chrome/116.0 Safari/537.36\n"
     ]
    },
    {
     "name": "stderr",
     "output_type": "stream",
     "text": [
      "C:\\Users\\Yusuf\\AppData\\Local\\Temp\\ipykernel_28624\\2442571552.py:45: FutureWarning: Passing literal html to 'read_html' is deprecated and will be removed in a future version. To read from a literal string, wrap it in a 'StringIO' object.\n",
      "  tables = pd.read_html(response.text)\n"
     ]
    },
    {
     "name": "stdout",
     "output_type": "stream",
     "text": [
      "Saved: Defense Data for Portland-Timbers to MLS_2024_Data\\Portland-Timbers\\defense_data.csv\n",
      "Fetching: https://fbref.com/en/squads/d076914e/2024/matchlogs/c22/possession/Portland-Timbers-Match-Logs-Major-League-Soccer (Attempt 1) with User-Agent: Mozilla/5.0 (Macintosh; Intel Mac OS X 10_15_7) AppleWebKit/537.36 (KHTML, like Gecko) Chrome/116.0 Safari/537.36\n"
     ]
    },
    {
     "name": "stderr",
     "output_type": "stream",
     "text": [
      "C:\\Users\\Yusuf\\AppData\\Local\\Temp\\ipykernel_28624\\2442571552.py:45: FutureWarning: Passing literal html to 'read_html' is deprecated and will be removed in a future version. To read from a literal string, wrap it in a 'StringIO' object.\n",
      "  tables = pd.read_html(response.text)\n"
     ]
    },
    {
     "name": "stdout",
     "output_type": "stream",
     "text": [
      "Saved: Possession Data for Portland-Timbers to MLS_2024_Data\\Portland-Timbers\\possession_data.csv\n",
      "Fetching: https://fbref.com/en/squads/d076914e/2024/matchlogs/c22/misc/Portland-Timbers-Match-Logs-Major-League-Soccer (Attempt 1) with User-Agent: Mozilla/5.0 (Macintosh; Intel Mac OS X 10_15_7) AppleWebKit/537.36 (KHTML, like Gecko) Chrome/116.0 Safari/537.36\n"
     ]
    },
    {
     "name": "stderr",
     "output_type": "stream",
     "text": [
      "C:\\Users\\Yusuf\\AppData\\Local\\Temp\\ipykernel_28624\\2442571552.py:45: FutureWarning: Passing literal html to 'read_html' is deprecated and will be removed in a future version. To read from a literal string, wrap it in a 'StringIO' object.\n",
      "  tables = pd.read_html(response.text)\n"
     ]
    },
    {
     "name": "stdout",
     "output_type": "stream",
     "text": [
      "Saved: Miscellaneous Data for Portland-Timbers to MLS_2024_Data\\Portland-Timbers\\miscellaneous_data.csv\n"
     ]
    }
   ],
   "source": [
    "import os\n",
    "import pandas as pd\n",
    "import time\n",
    "import random\n",
    "import requests\n",
    "\n",
    "# Base URL for FBref\n",
    "base_url = \"https://fbref.com/en/squads\"\n",
    "\n",
    "mls_teams_fbref = {\n",
    "    \"los-angeles-fc\": \"81d817a3\",\n",
    "    \"Portland-Timbers\": \"d076914e\"\n",
    "}\n",
    "# List of User-Agent strings for rotation\n",
    "user_agents = [\n",
    "    #\"Mozilla/5.0 (Windows NT 10.0; Win64; x64) AppleWebKit/537.36 (KHTML, like Gecko) Chrome/117.0 Safari/537.36 Edg/117.0\",\n",
    "    \"Mozilla/5.0 (Macintosh; Intel Mac OS X 10_15_7) AppleWebKit/537.36 (KHTML, like Gecko) Chrome/116.0 Safari/537.36\",\n",
    "    #\"Mozilla/5.0 (Windows NT 10.0; Win64; x64; rv:117.0) Gecko/20100101 Firefox/117.0\"\n",
    "]\n",
    "\n",
    "# Base directory for saving data\n",
    "base_folder = \"MLS_2024_Data\"\n",
    "os.makedirs(base_folder, exist_ok=True)\n",
    "\n",
    "# Function to fetch and save tables\n",
    "def fetch_table_with_backoff(team_name, team_id, endpoint, description, team_folder, is_fixture=False):\n",
    "    # Construct URL\n",
    "    if is_fixture:\n",
    "        url = f\"{base_url}/{team_id}/2024/matchlogs/c22/schedule/{team_name}-Scores-and-Fixtures-Major-League-Soccer\"\n",
    "    else:\n",
    "        url = f\"{base_url}/{team_id}/2024/matchlogs/c22/{endpoint}/{team_name}-Match-Logs-Major-League-Soccer\"\n",
    "    \n",
    "    backoff = 5  # Start with a 5-second delay\n",
    "    max_backoff = 30  # Maximum backoff delay\n",
    "    for attempt in range(5):  # Retry up to 5 times\n",
    "        try:\n",
    "            # Rotate User-Agent for each request\n",
    "            headers = {\"User-Agent\": random.choice(user_agents)}\n",
    "            print(f\"Fetching: {url} (Attempt {attempt + 1}) with User-Agent: {headers['User-Agent']}\")\n",
    "            \n",
    "            response = requests.get(url, headers=headers)\n",
    "            response.raise_for_status()  # Raise an error for bad HTTP status codes\n",
    "            \n",
    "            # Parse table using pandas\n",
    "            tables = pd.read_html(response.text)\n",
    "            table = tables[0]\n",
    "            if table.columns.nlevels > 1:  # Drop multi-level headers if present\n",
    "                table.columns = table.columns.droplevel(0)\n",
    "            \n",
    "            # Save table as CSV\n",
    "            csv_path = os.path.join(team_folder, f\"{description.replace(' ', '_').lower()}.csv\")\n",
    "            table.to_csv(csv_path, index=False)\n",
    "            print(f\"Saved: {description} for {team_name} to {csv_path}\")\n",
    "            return\n",
    "        except requests.exceptions.HTTPError as e:\n",
    "            if response.status_code == 429:  # Handle Too Many Requests\n",
    "                print(f\"429 Too Many Requests: Retrying in {backoff} seconds...\")\n",
    "                time.sleep(backoff)\n",
    "                backoff = min(backoff * 2, max_backoff)  # Exponential backoff, capped at 30 seconds\n",
    "            else:\n",
    "                print(f\"HTTP Error: {e}\")\n",
    "                break\n",
    "        except Exception as e:\n",
    "            print(f\"Error fetching {description} for {team_name}: {e}\")\n",
    "            break\n",
    "\n",
    "# Iterate through teams and save their data\n",
    "for team_name, team_id in mls_teams_fbref.items():\n",
    "    # Create a folder for the team\n",
    "    team_folder = os.path.join(base_folder, team_name)\n",
    "    os.makedirs(team_folder, exist_ok=True)\n",
    "    \n",
    "    # Fetch data with randomized delays and backoff\n",
    "    fetch_table_with_backoff(team_name, team_id, \"schedule\", \"Scores and Fixtures\", team_folder, is_fixture=True)\n",
    "    time.sleep(random.randint(30, 60))  # Random delay between 10 and 20 seconds\n",
    "    fetch_table_with_backoff(team_name, team_id, \"shooting\", \"Shooting Data\", team_folder)\n",
    "    time.sleep(random.randint(30, 60))\n",
    "    fetch_table_with_backoff(team_name, team_id, \"keeper\", \"Keeper Data\", team_folder)\n",
    "    time.sleep(random.randint(30, 60))\n",
    "    fetch_table_with_backoff(team_name, team_id, \"passing\", \"Passing Data\", team_folder)\n",
    "    time.sleep(random.randint(30, 60))\n",
    "    fetch_table_with_backoff(team_name, team_id, \"passing_types\", \"Passing Types Data\", team_folder)\n",
    "    time.sleep(random.randint(30, 60))\n",
    "    fetch_table_with_backoff(team_name, team_id, \"gca\", \"Goals and Shots Data\", team_folder)\n",
    "    time.sleep(random.randint(30, 60))\n",
    "    fetch_table_with_backoff(team_name, team_id, \"defense\", \"Defense Data\", team_folder)\n",
    "    time.sleep(random.randint(30, 60))\n",
    "    fetch_table_with_backoff(team_name, team_id, \"possession\", \"Possession Data\", team_folder)\n",
    "    time.sleep(random.randint(30, 60))\n",
    "    fetch_table_with_backoff(team_name, team_id, \"misc\", \"Miscellaneous Data\", team_folder)\n",
    "    time.sleep(random.randint(30, 60))\n",
    "\n"
   ]
  },
  {
   "cell_type": "code",
   "execution_count": null,
   "metadata": {},
   "outputs": [],
   "source": [
    "\"\"\"\n",
    "# fbref table link\n",
    "url_df = 'https://fbref.com/en/squads/1ebc1a5b/Atlanta-United-Stats'\n",
    "matchlog = pd.read_html(url_df)\n",
    "#player states\n",
    "matchlog0 = matchlog[0]\n",
    "matchlog0.columns = matchlog0.columns.droplevel(0)\n",
    "display(matchlog0.head())\n",
    "\n",
    "#scores\n",
    "match_fixtures_url = 'https://fbref.com/en/squads/1ebc1a5b/2024/matchlogs/c22/schedule/Atlanta-United-Scores-and-Fixtures-Major-League-Soccer'\n",
    "scores = pd.read_html(match_fixtures_url)\n",
    "scores0 = scores[0]\n",
    "display(scores0.head())\n",
    "\n",
    "#shooting\n",
    "match_fixtures_url = 'https://fbref.com/en/squads/1ebc1a5b/2024/matchlogs/c22/shooting/Atlanta-United-Match-Logs-Major-League-Soccer'\n",
    "shooting = pd.read_html(match_fixtures_url)\n",
    "shooting0 = shooting[0]\n",
    "shooting0.columns = shooting0.columns.droplevel(0)\n",
    "display(shooting0.head())\n",
    "\n",
    "#keeper\n",
    "match_fixtures_url = 'https://fbref.com/en/squads/1ebc1a5b/2024/matchlogs/c22/keeper/Atlanta-United-Match-Logs-Major-League-Soccer'\n",
    "keeper = pd.read_html(match_fixtures_url)\n",
    "keeper0 = keeper[0]\n",
    "keeper0.columns = keeper0.columns.droplevel(0)\n",
    "display(keeper0.head())\n",
    "\n",
    "#passing_types\n",
    "match_fixtures_url = 'https://fbref.com/en/squads/1ebc1a5b/2024/matchlogs/c22/passing/Atlanta-United-Match-Logs-Major-League-Soccer'\n",
    "passing = pd.read_html(match_fixtures_url)\n",
    "passing0 = passing[0]\n",
    "passing0.columns = passing0.columns.droplevel(0)\n",
    "display(passing0.head())\n",
    "\n",
    "#passing_types\n",
    "match_fixtures_url = 'https://fbref.com/en/squads/1ebc1a5b/2024/matchlogs/c22/passing_types/Atlanta-United-Match-Logs-Major-League-Soccer'\n",
    "pass_type = pd.read_html(match_fixtures_url)\n",
    "pass_type0 = pass_type[0]\n",
    "pass_type0.columns = pass_type0.columns.droplevel(0)\n",
    "display(pass_type0.head())\n",
    "\n",
    "#goals/shots\n",
    "match_fixtures_url = 'https://fbref.com/en/squads/1ebc1a5b/2024/matchlogs/c22/gca/Atlanta-United-Match-Logs-Major-League-Soccer'\n",
    "gca = pd.read_html(match_fixtures_url)\n",
    "gca0 = gca[0]\n",
    "gca0.columns = gca0.columns.droplevel(0)\n",
    "display(gca0.head())\n",
    "\n",
    "#defense\n",
    "match_fixtures_url = 'https://fbref.com/en/squads/1ebc1a5b/2024/matchlogs/c22/defense/Atlanta-United-Match-Logs-Major-League-Soccer'\n",
    "defense = pd.read_html(match_fixtures_url)\n",
    "defense0 = defense[0]\n",
    "defense0.columns = defense0.columns.droplevel(0)\n",
    "display(defense0.head())\n",
    "\n",
    "#possession\n",
    "match_fixtures_url = 'https://fbref.com/en/squads/1ebc1a5b/2024/matchlogs/c22/possession/Atlanta-United-Match-Logs-Major-League-Soccer'\n",
    "poss = pd.read_html(match_fixtures_url)\n",
    "poss0 = defense[0]\n",
    "poss0.columns = poss0.columns.droplevel(0)\n",
    "display(poss0.head())\n",
    "\n",
    "#misc\n",
    "match_fixtures_url = 'https://fbref.com/en/squads/1ebc1a5b/2024/matchlogs/c22/misc/Atlanta-United-Match-Logs-Major-League-Soccer'\n",
    "misc = pd.read_html(match_fixtures_url)\n",
    "misc0 = defense[0]\n",
    "misc0.columns = misc0.columns.droplevel(0)\n",
    "display(misc0.head())\n",
    "\"\"\""
   ]
  }
 ],
 "metadata": {
  "colab": {
   "provenance": []
  },
  "kernelspec": {
   "display_name": "Python 3",
   "name": "python3"
  },
  "language_info": {
   "codemirror_mode": {
    "name": "ipython",
    "version": 3
   },
   "file_extension": ".py",
   "mimetype": "text/x-python",
   "name": "python",
   "nbconvert_exporter": "python",
   "pygments_lexer": "ipython3",
   "version": "3.12.3"
  }
 },
 "nbformat": 4,
 "nbformat_minor": 0
}
